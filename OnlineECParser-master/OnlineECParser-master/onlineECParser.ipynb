{
 "cells": [
  {
   "cell_type": "code",
   "execution_count": 1,
   "metadata": {},
   "outputs": [
    {
     "name": "stdout",
     "output_type": "stream",
     "text": [
      "location(office, 78).\n",
      "location(desktop, 65).\n",
      "objectOI(cup, 69).\n",
      "objectOI(chair, 23).\n",
      "sorts.lp is stored\n",
      "happens(changeOOI(cup, chair), 1).\n",
      "happens(changeLocation(office, desktop), 1).\n",
      "./lp/events.lp is stored\n"
     ]
    }
   ],
   "source": [
    "# File One: Read the sorts and store in a .txt file.\n",
    "\n",
    "\n",
    "# ****************************************************************\n",
    "# ****************************************************************\n",
    "# ****************************************************************\n",
    "\n",
    "pLoc   = 'office'\n",
    "pLocPr = '78'\n",
    "cLoc   = 'desktop'\n",
    "cLocPr = '65'\n",
    "\n",
    "pOoi   = 'cup'\n",
    "pOoiPr = '69'\n",
    "cOoi   = 'chair'\n",
    "cOoiPr = '23'\n",
    "\n",
    "# ****************************************************************\n",
    "# ****************************************************************\n",
    "# ****************************************************************\n",
    "\n",
    "pLocation = 'location(' + pLoc + ',' + ' ' + pLocPr + ').'\n",
    "cLocation = 'location(' + cLoc + ',' + ' ' + cLocPr + ').'\n",
    "\n",
    "pObjectOI = 'objectOI(' + pOoi + ',' + ' ' + pOoiPr + ').'\n",
    "cObjectOI = 'objectOI(' + cOoi + ',' + ' ' + cOoiPr + ').'\n",
    "\n",
    "print (pLocation)\n",
    "print (cLocation)\n",
    "print (pObjectOI)\n",
    "print (cObjectOI)\n",
    "\n",
    "with open('./lp/sorts.lp', 'w') as out:\n",
    "    out.write('{}\\n{}\\n{}\\n{}\\n'.format(pLocation, cLocation, pObjectOI, cObjectOI))\n",
    "    print ('sorts.lp is stored')\n",
    "\n",
    "# File Two: Read the sorts, build the events and store in a .txt file.\n",
    "\n",
    "\n",
    "pEChanLoc = 'happens(changeOOI(' + pOoi + ',' + ' ' + cOoi + '), 1).'\n",
    "\n",
    "pEChanOOI = 'happens(changeLocation(' + pLoc + ',' + ' ' + cLoc + '), 1).'\n",
    "\n",
    "print (pEChanLoc)\n",
    "print (pEChanOOI)\n",
    "\n",
    "csloi = \"not releasedAt(F,0) :- fluent(F).\"\n",
    "\n",
    "with open('./lp/events.lp', 'w') as out:\n",
    "    out.write('{}\\n{}\\n{}\\n'.format(csloi, pEChanLoc, pEChanOOI))\n",
    "    print ('./lp/events.lp is stored')"
   ]
  },
  {
   "cell_type": "code",
   "execution_count": 2,
   "metadata": {},
   "outputs": [
    {
     "data": {
      "text/plain": [
       "255"
      ]
     },
     "execution_count": 2,
     "metadata": {},
     "output_type": "execute_result"
    }
   ],
   "source": [
    "# Run the reasoning system.\n",
    "import os\n",
    "\n",
    "command = \"./clingo/clingoWindows.exe -c maxtime=3 -n 1 ./lp/decOrigin2.lp ./lp/sorts.lp ./lp/events.lp ./lp/activities.lp ./lp/ecasp888.lp ./lp/ecasp88888.lp | ./clingo/format-output.exe 3 >./inference/ecasp88.txt\"\n",
    "# command = \"./clingo/clingoLinux -c maxtime=3 -n 1 ./lp/decOrigin2.lp ./lp/sorts.lp ./lp/events.lp ./lp/activities.lp ./lp/ecasp888.lp ./lp/ecasp88888.lp | ./clingo/format-output 3 >./inference/ecasp88.txt\"\n",
    "\n",
    "os.system(command)"
   ]
  },
  {
   "cell_type": "code",
   "execution_count": 3,
   "metadata": {},
   "outputs": [
    {
     "name": "stdout",
     "output_type": "stream",
     "text": [
      "+intention(resting,14)\n",
      "\n",
      "Yes, it is. Hihi!!\n"
     ]
    }
   ],
   "source": [
    "# Read the intention.\n",
    "\n",
    "intention = open(\"./inference/ecasp88.txt\")\n",
    "line = intention.readlines()\n",
    "print (line[15])\n",
    "\n",
    "match = \"+intention(\"\n",
    "\n",
    "if match in line[15]:\n",
    "    print (\"Yes, it is. Hihi!!\")"
   ]
  },
  {
   "cell_type": "code",
   "execution_count": 4,
   "metadata": {},
   "outputs": [],
   "source": [
    "# Extract the intention.\n",
    "\n",
    "import re\n",
    "\n",
    "m = re.search('\\+intention\\((.+?),', line[15])\n",
    "if m:\n",
    "    found = m.group(1)"
   ]
  },
  {
   "cell_type": "code",
   "execution_count": 5,
   "metadata": {},
   "outputs": [
    {
     "data": {
      "text/plain": [
       "'resting'"
      ]
     },
     "execution_count": 5,
     "metadata": {},
     "output_type": "execute_result"
    }
   ],
   "source": [
    "found"
   ]
  }
 ],
 "metadata": {
  "kernelspec": {
   "display_name": "Python 3",
   "language": "python",
   "name": "python3"
  },
  "language_info": {
   "codemirror_mode": {
    "name": "ipython",
    "version": 3
   },
   "file_extension": ".py",
   "mimetype": "text/x-python",
   "name": "python",
   "nbconvert_exporter": "python",
   "pygments_lexer": "ipython3",
   "version": "3.7.7"
  }
 },
 "nbformat": 4,
 "nbformat_minor": 4
}
